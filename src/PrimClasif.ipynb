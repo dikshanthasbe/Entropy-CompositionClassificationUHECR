{
 "cells": [
  {
   "cell_type": "code",
   "execution_count": null,
   "id": "0d76a3f3",
   "metadata": {
    "lines_to_next_cell": 2
   },
   "outputs": [],
   "source": [
    "\"\"\"\n",
    "Created on Tue Jul 24 09:55:10 2018\n",
    "\n",
    "@author: alberto\n",
    "\"\"\""
   ]
  },
  {
   "cell_type": "code",
   "execution_count": null,
   "id": "c28b8000",
   "metadata": {},
   "outputs": [],
   "source": [
    "import numpy as np\n",
    "import pandas as pd\n",
    "import matplotlib.pyplot as plt\n",
    "import pickle\n",
    "import os\n",
    "from sklearn.model_selection import train_test_split\n",
    "from sklearn.preprocessing import StandardScaler, MinMaxScaler\n",
    "from sklearn.metrics import mean_absolute_error, r2_score"
   ]
  },
  {
   "cell_type": "code",
   "execution_count": null,
   "id": "c8cb947f",
   "metadata": {},
   "outputs": [],
   "source": [
    "from keras.models import Sequential\n",
    "from keras.layers import Dense\n",
    "from keras.optimizers import SGD,Adam\n",
    "from keras.metrics import  categorical_accuracy\n",
    "from keras.wrappers.scikit_learn import KerasRegressor\n",
    "from keras import initializers\n",
    "from keras import callbacks\n",
    "from keras.utils.np_utils import to_categorical"
   ]
  },
  {
   "cell_type": "code",
   "execution_count": null,
   "id": "4aa13741",
   "metadata": {},
   "outputs": [],
   "source": [
    "from keras.utils import plot_model\n",
    "from IPython.display import SVG\n",
    "from keras.utils.vis_utils import model_to_dot"
   ]
  },
  {
   "cell_type": "code",
   "execution_count": null,
   "id": "12622e0b",
   "metadata": {},
   "outputs": [],
   "source": [
    "# Classifiers used\n",
    "from sklearn import neighbors\n",
    "from sklearn.svm import SVC\n",
    "from sklearn.tree import DecisionTreeClassifier\n",
    "from sklearn.ensemble import RandomForestClassifier, AdaBoostClassifier"
   ]
  },
  {
   "cell_type": "code",
   "execution_count": null,
   "id": "5335cec6",
   "metadata": {},
   "outputs": [],
   "source": [
    "from sklearn.metrics import classification_report\n",
    "from sklearn.metrics import confusion_matrix\n",
    "from sklearn.metrics import accuracy_score\n",
    "from plot_conf_matrix import plot_conf_matrix"
   ]
  },
  {
   "cell_type": "code",
   "execution_count": null,
   "id": "f2cb1dd2",
   "metadata": {},
   "outputs": [],
   "source": [
    "from tools import calc_error_n_plot"
   ]
  },
  {
   "cell_type": "code",
   "execution_count": null,
   "id": "b9269c1e",
   "metadata": {},
   "outputs": [],
   "source": [
    "import time"
   ]
  },
  {
   "cell_type": "code",
   "execution_count": null,
   "id": "a1da8e54",
   "metadata": {},
   "outputs": [],
   "source": [
    "elapsed_t={}\n",
    "clasf_report={}\n",
    "prefijo=''\n",
    "path_datos=('../data'+prefijo+'/')\n",
    "path_results=('../results'+prefijo+'/')"
   ]
  },
  {
   "cell_type": "code",
   "execution_count": null,
   "id": "c0e4602f",
   "metadata": {},
   "outputs": [],
   "source": [
    "random_st=42 \n",
    "seed = 7 \n",
    "np.random.seed(seed)"
   ]
  },
  {
   "cell_type": "code",
   "execution_count": null,
   "id": "7bd899c7",
   "metadata": {
    "lines_to_next_cell": 2
   },
   "outputs": [],
   "source": [
    "#X_df=pd.read_csv(path_datos+'XTrn.txt',usecols=['NALLParticlesTiotal','MUTotal','ELTotal','Zenith','Energy'])\n",
    "X_df=pd.read_csv(path_datos+'XTrn.txt',sep='  ',header=None)\n",
    "Y_df=pd.read_csv(path_datos+'YTrn.txt',sep='  ',header=None)\n",
    "X_test_df=pd.read_csv(path_datos+'XTest.txt',sep='  ',header=None)\n",
    "Y_test_df=pd.read_csv(path_datos+'YTest.txt',sep='  ',header=None)"
   ]
  },
  {
   "cell_type": "code",
   "execution_count": null,
   "id": "663c299d",
   "metadata": {},
   "outputs": [],
   "source": [
    "scalerX = StandardScaler()  \n",
    "scalerX.fit(X_df)  "
   ]
  },
  {
   "cell_type": "markdown",
   "id": "025d8eaf",
   "metadata": {},
   "source": [
    "scalerY = StandardScaler()  \n",
    "scalerY.fit(Y_df) "
   ]
  },
  {
   "cell_type": "code",
   "execution_count": null,
   "id": "2de11c21",
   "metadata": {},
   "outputs": [],
   "source": [
    "X_train = scalerX.transform(X_df)  \n",
    "Y_train = Y_df.values"
   ]
  },
  {
   "cell_type": "code",
   "execution_count": null,
   "id": "2c570af1",
   "metadata": {},
   "outputs": [],
   "source": [
    "X_testYval_norm = scalerX.transform(X_test_df)  "
   ]
  },
  {
   "cell_type": "markdown",
   "id": "b782cdd1",
   "metadata": {},
   "source": [
    "Y_norm = scalerY.transform(Y_df)  \n",
    "Y_test_norm = scalerY.transform(Y_test_df)  "
   ]
  },
  {
   "cell_type": "markdown",
   "id": "fa6fa7ff",
   "metadata": {},
   "source": [
    "Test Val split"
   ]
  },
  {
   "cell_type": "code",
   "execution_count": null,
   "id": "abe98f7d",
   "metadata": {},
   "outputs": [],
   "source": [
    "X_test_norm,X_val,Y_test,Y_val=train_test_split(X_testYval_norm,\n",
    "                                            Y_test_df.values,\n",
    "                                            test_size=0.50,\n",
    "                                            random_state=45)"
   ]
  },
  {
   "cell_type": "code",
   "execution_count": null,
   "id": "925933f5",
   "metadata": {},
   "outputs": [],
   "source": [
    "\"\"\"\n",
    "BOOOORRAME!!!!!!\n",
    "\"\"\"\n",
    "X_train=X_train[0:500,:]\n",
    "Y_train=Y_train[0:500,:]"
   ]
  },
  {
   "cell_type": "code",
   "execution_count": null,
   "id": "3b14a9a3",
   "metadata": {
    "lines_to_next_cell": 2
   },
   "outputs": [],
   "source": [
    "\"\"\"\n",
    "-----------------------------\n",
    "\"\"\""
   ]
  },
  {
   "cell_type": "code",
   "execution_count": null,
   "id": "44883064",
   "metadata": {},
   "outputs": [],
   "source": [
    "\"\"\" \n",
    "KNN\n",
    "\"\"\""
   ]
  },
  {
   "cell_type": "code",
   "execution_count": null,
   "id": "3040884a",
   "metadata": {},
   "outputs": [],
   "source": [
    "start_t = time.time()"
   ]
  },
  {
   "cell_type": "code",
   "execution_count": null,
   "id": "4a19d7a8",
   "metadata": {},
   "outputs": [],
   "source": [
    "n_neighbors = 3\n",
    "clf = neighbors.KNeighborsClassifier(n_neighbors)\n",
    "clf.fit(X_train, np.ravel(Y_train))"
   ]
  },
  {
   "cell_type": "code",
   "execution_count": null,
   "id": "79c382d8",
   "metadata": {},
   "outputs": [],
   "source": [
    "elapsed_t['knn'] = time.time() - start_t"
   ]
  },
  {
   "cell_type": "code",
   "execution_count": null,
   "id": "4c34a327",
   "metadata": {},
   "outputs": [],
   "source": [
    "Y_pred_train=clf.predict(X_train)\n",
    "Y_pred_train=Y_pred_train.reshape(-1,1)\n",
    "Y_pred_val=clf.predict(X_val)\n",
    "Y_pred_val=Y_pred_val.reshape(-1,1)\n",
    "Y_pred_test=clf.predict(X_test_norm)\n",
    "Y_pred_test=Y_pred_test.reshape(-1,1)"
   ]
  },
  {
   "cell_type": "code",
   "execution_count": null,
   "id": "1e127abb",
   "metadata": {
    "lines_to_next_cell": 2
   },
   "outputs": [],
   "source": [
    "calc_error_n_plot(Y_train,Y_pred_train,'TRAIN')\n",
    "calc_error_n_plot(Y_val,Y_pred_val,'VALIDATION')\n",
    "clasf_report['KNN']=calc_error_n_plot(Y_test,Y_pred_test,'TEST')"
   ]
  },
  {
   "cell_type": "code",
   "execution_count": null,
   "id": "88cc27ab",
   "metadata": {
    "lines_to_next_cell": 2
   },
   "outputs": [],
   "source": [
    "print('Time elapsed for kNN %f' % elapsed_t['knn'])"
   ]
  },
  {
   "cell_type": "code",
   "execution_count": null,
   "id": "440b3d4b",
   "metadata": {},
   "outputs": [],
   "source": [
    "\"\"\"\n",
    "SVM\n",
    "\"\"\""
   ]
  },
  {
   "cell_type": "code",
   "execution_count": null,
   "id": "55a82854",
   "metadata": {},
   "outputs": [],
   "source": [
    "start_t = time.time()"
   ]
  },
  {
   "cell_type": "code",
   "execution_count": null,
   "id": "25fd7df8",
   "metadata": {},
   "outputs": [],
   "source": [
    "C=0.75\n",
    "clf = SVC(C)"
   ]
  },
  {
   "cell_type": "code",
   "execution_count": null,
   "id": "24d212b8",
   "metadata": {},
   "outputs": [],
   "source": [
    "clf.fit(X_train, np.ravel(Y_train))"
   ]
  },
  {
   "cell_type": "code",
   "execution_count": null,
   "id": "14768fd5",
   "metadata": {},
   "outputs": [],
   "source": [
    "elapsed_t['SVM'] = time.time() - start_t"
   ]
  },
  {
   "cell_type": "code",
   "execution_count": null,
   "id": "ad6f50dd",
   "metadata": {},
   "outputs": [],
   "source": [
    "Y_pred_train=clf.predict(X_train)\n",
    "Y_pred_train=Y_pred_train.reshape(-1,1)\n",
    "Y_pred_val=clf.predict(X_val)\n",
    "Y_pred_val=Y_pred_val.reshape(-1,1)\n",
    "Y_pred_test=clf.predict(X_test_norm)\n",
    "Y_pred_test=Y_pred_test.reshape(-1,1)"
   ]
  },
  {
   "cell_type": "code",
   "execution_count": null,
   "id": "fc8421fb",
   "metadata": {},
   "outputs": [],
   "source": [
    "calc_error_n_plot(Y_train,Y_pred_train,'TRAIN')\n",
    "calc_error_n_plot(Y_val,Y_pred_val,'VALIDATION')\n",
    "clasf_report['SVM']=calc_error_n_plot(Y_test,Y_pred_test,'TEST')"
   ]
  },
  {
   "cell_type": "code",
   "execution_count": null,
   "id": "612fd63f",
   "metadata": {},
   "outputs": [],
   "source": [
    "\"\"\"\n",
    "Random Forest\n",
    "\"\"\"\n",
    "clf = RandomForestClassifier(max_depth=5, n_estimators=10, max_features=1)\n",
    "clf.fit(X_train, np.ravel(Y_train))"
   ]
  },
  {
   "cell_type": "code",
   "execution_count": null,
   "id": "e2bc9956",
   "metadata": {},
   "outputs": [],
   "source": [
    "elapsed_t['RandForest'] = time.time() - start_t"
   ]
  },
  {
   "cell_type": "code",
   "execution_count": null,
   "id": "d320b968",
   "metadata": {},
   "outputs": [],
   "source": [
    "Y_pred_train=clf.predict(X_train)\n",
    "Y_pred_train=Y_pred_train.reshape(-1,1)\n",
    "Y_pred_val=clf.predict(X_val)\n",
    "Y_pred_val=Y_pred_val.reshape(-1,1)\n",
    "Y_pred_test=clf.predict(X_test_norm)\n",
    "Y_pred_test=Y_pred_test.reshape(-1,1)"
   ]
  },
  {
   "cell_type": "code",
   "execution_count": null,
   "id": "d6225143",
   "metadata": {},
   "outputs": [],
   "source": [
    "calc_error_n_plot(Y_train,Y_pred_train,'TRAIN')\n",
    "calc_error_n_plot(Y_val,Y_pred_val,'VALIDATION')\n",
    "clasf_report['RandForest']=calc_error_n_plot(Y_test,Y_pred_test,'TEST')"
   ]
  },
  {
   "cell_type": "code",
   "execution_count": null,
   "id": "323a773d",
   "metadata": {},
   "outputs": [],
   "source": [
    "\"\"\"\n",
    "XGBoost\n",
    "https://xgboost.ai/about\n",
    "\"\"\""
   ]
  },
  {
   "cell_type": "code",
   "execution_count": null,
   "id": "82526365",
   "metadata": {},
   "outputs": [],
   "source": [
    "import xgboost as xgb"
   ]
  },
  {
   "cell_type": "markdown",
   "id": "6d7d5a68",
   "metadata": {},
   "source": [
    "dtrain = xgb.DMatrix(np.concatenate((X_train,Y_train),axis=1))\n",
    "dtest = xgb.DMatrix(np.concatenate((X_test_norm,Y_test_df.values),axis=1))"
   ]
  },
  {
   "cell_type": "code",
   "execution_count": null,
   "id": "2052047b",
   "metadata": {},
   "outputs": [],
   "source": [
    "dtrain = xgb.DMatrix(X_train, label=Y_train)\n",
    "dtest = xgb.DMatrix(X_test_norm,label=Y_test)"
   ]
  },
  {
   "cell_type": "code",
   "execution_count": null,
   "id": "8228294e",
   "metadata": {},
   "outputs": [],
   "source": [
    "# specify parameters via map\n",
    "param = {'max_depth':10, 'eta':1, 'silent':1, 'objective':'multi:softmax', 'num_class':5 }\n",
    "num_round = 2\n",
    "bst = xgb.train(param, dtrain, num_round)\n",
    "# make prediction\n",
    "Y_pred_test = bst.predict(dtest)"
   ]
  },
  {
   "cell_type": "code",
   "execution_count": null,
   "id": "5891b4e2",
   "metadata": {},
   "outputs": [],
   "source": [
    "clasf_report['XGB']=calc_error_n_plot(Y_test,Y_pred_test,'TEST')"
   ]
  },
  {
   "cell_type": "code",
   "execution_count": null,
   "id": "2280f47c",
   "metadata": {
    "lines_to_next_cell": 1
   },
   "outputs": [],
   "source": [
    "\"\"\"\n",
    "DNN\n",
    "\"\"\"\n",
    "import keras.utils"
   ]
  },
  {
   "cell_type": "code",
   "execution_count": null,
   "id": "d335919a",
   "metadata": {},
   "outputs": [],
   "source": [
    "def clasif_model():\n",
    "    individual=[(150, 0), (100, 0), (100,0), (50,0)]\n",
    "\n",
    "    activation_functions={\n",
    "        0:\"relu\",\n",
    "        1:\"sigmoid\",\n",
    "        2:\"softmax\",\n",
    "        3:\"tanh\",\n",
    "        #4:\"selu\", \n",
    "        4:\"softplus\",\n",
    "        #6:\"softsign\",\n",
    "        5:\"linear\"\n",
    "    }\n",
    "\n",
    "    dimension=5\n",
    "    model = Sequential()\n",
    "    for units,activ_f in individual:       \n",
    "       if(units>5): \n",
    "           model.add(Dense(units=units, input_dim=dimension, kernel_initializer=initializers.Constant(value=0.025), activation=activation_functions[activ_f]))\n",
    "    \n",
    "    model.add(Dense(units=5, activation=\"softmax\", kernel_initializer=initializers.Constant(value=0.025)))   \n",
    "\n",
    "    #SGD(lr=0.05, momentum=0.1, decay=0.001, nesterov=False)\n",
    "    #model.compile(loss='mean_squared_error', optimizer='sgd')\n",
    "      \n",
    "    #Adam(lr=0.1, beta_1=0.09, beta_2=0.999, epsilon=1e-08, decay=0.0) #adam defaults Adam(lr=0.001, beta_1=0.9, beta_2=0.999, epsilon=1e-08, decay=0.0)\n",
    "    #Adam(lr=0.001, beta_1=0.9, beta_2=0.999, epsilon=1e-08, decay=0.0) # Adan defaults\n",
    "    model.compile(loss='categorical_crossentropy', optimizer='adam', metrics=['accuracy'])\n",
    "    \n",
    "    return model"
   ]
  },
  {
   "cell_type": "code",
   "execution_count": null,
   "id": "42c12360",
   "metadata": {},
   "outputs": [],
   "source": [
    "#Prepare one hot encoding...\n",
    "hot_Y_train = keras.utils.to_categorical(Y_train,num_classes=5)\n",
    "hot_Y_val = keras.utils.to_categorical(Y_val,num_classes=5)"
   ]
  },
  {
   "cell_type": "code",
   "execution_count": null,
   "id": "dad05a55",
   "metadata": {
    "lines_to_next_cell": 2
   },
   "outputs": [],
   "source": [
    "estimator = KerasRegressor(build_fn=clasif_model, nb_epoch=100, verbose=1)\n",
    "estimator.fit(X_train,hot_Y_train, epochs=150, batch_size=20, validation_data=(X_val,hot_Y_val))\n",
    "Y_pred_test = estimator.predict(X_test_norm)"
   ]
  },
  {
   "cell_type": "code",
   "execution_count": null,
   "id": "59a2c87b",
   "metadata": {},
   "outputs": [],
   "source": [
    "clasf_report['DNN']=calc_error_n_plot(Y_test_norm,np.argmax(Y_pred_test,axis=1),'TEST')"
   ]
  },
  {
   "cell_type": "code",
   "execution_count": null,
   "id": "2d75292d",
   "metadata": {},
   "outputs": [],
   "source": [
    "\"\"\"\n",
    "Generate report\n",
    "\"\"\"\n",
    "final_report=''\n",
    "final_report=' \\t             precision    recall  f1-score   support \\n'\n",
    "for model in clasf_report.keys():\n",
    "    report=clasf_report[model].split('\\n')\n",
    "    final_report+=model+'\\t'+report[5+3]+' \\n'\n",
    "print(final_report)"
   ]
  }
 ],
 "metadata": {
  "jupytext": {
   "cell_metadata_filter": "-all",
   "encoding": "# -*- coding: utf-8 -*-",
   "executable": "/usr/bin/env python3",
   "main_language": "python",
   "notebook_metadata_filter": "-all"
  }
 },
 "nbformat": 4,
 "nbformat_minor": 5
}
