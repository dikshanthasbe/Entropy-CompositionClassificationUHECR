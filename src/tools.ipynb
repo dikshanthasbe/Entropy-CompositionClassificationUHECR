{
 "cells": [
  {
   "cell_type": "code",
   "execution_count": null,
   "id": "a7cc704b",
   "metadata": {},
   "outputs": [],
   "source": [
    "from sklearn.metrics import classification_report\n",
    "from sklearn.metrics import confusion_matrix\n",
    "from sklearn.metrics import accuracy_score\n",
    "from plot_conf_matrix import plot_conf_matrix\n",
    "import matplotlib.pyplot as plt\n",
    "import numpy as np"
   ]
  },
  {
   "cell_type": "code",
   "execution_count": null,
   "id": "9e99fe63",
   "metadata": {},
   "outputs": [],
   "source": [
    "\"\"\"\n",
    "calc_error_n_plot\n",
    " computes the the classifi report, confusion matrix and plots the results\n",
    " given the Y, Y_pred and a string (label) that indicates if it's train or test\n",
    "\"\"\"\n",
    "def calc_error_n_plot(Y,Y_pred,label):\n",
    "    print(classification_report(Y, Y_pred))\n",
    "        \n",
    "    # Compute confusion matrix\n",
    "    cnf_matrix = confusion_matrix(Y, Y_pred )\n",
    "    np.set_printoptions(precision=2)\n",
    "\n",
    "    # Plot non-normalized confusion matrix\n",
    "    plt.figure()\n",
    "    plot_conf_matrix(cnf_matrix, classes=['photon','proton', 'helium','nitrogen','iron' ],\n",
    "                            title='Confusion matrix '+label)\n",
    "    plt.show()\n",
    "    \n",
    "    # Plot normalized confusion matrix\n",
    "    plt.figure()\n",
    "    plot_conf_matrix(cnf_matrix, classes=['photon','proton', 'helium','nitrogen','iron' ], normalize=True,\n",
    "                            title='Normalized confusion matrix '+label)\n",
    "    \n",
    "    plt.show()\n",
    "    return classification_report(Y, Y_pred)"
   ]
  }
 ],
 "metadata": {
  "jupytext": {
   "cell_metadata_filter": "-all",
   "main_language": "python",
   "notebook_metadata_filter": "-all"
  }
 },
 "nbformat": 4,
 "nbformat_minor": 5
}
